{
 "cells": [
  {
   "cell_type": "code",
   "execution_count": 65,
   "metadata": {},
   "outputs": [],
   "source": [
    "from time import sleep\n",
    "import os\n",
    "import requests\n",
    "from selenium import webdriver\n",
    "from selenium.webdriver.chrome.options import Options\n",
    "from selenium.common.exceptions import NoSuchElementException\n",
    "from selenium.common.exceptions import ElementClickInterceptedException\n",
    "from tqdm import tqdm\n",
    "from PIL import Image\n",
    "import io\n",
    "from urllib.request import urlopen"
   ]
  },
  {
   "cell_type": "code",
   "execution_count": 53,
   "metadata": {},
   "outputs": [],
   "source": [
    "word = \"cat\"  # 検索するワード\n",
    "save_dir = \"./images/cat\"  # スクレイピングした画像を保存するディレクトリパス\n",
    "\n",
    "# ディレクトリが存在しなければ作成する\n",
    "if not os.path.exists(save_dir):\n",
    "    os.makedirs(save_dir)"
   ]
  },
  {
   "cell_type": "code",
   "execution_count": 54,
   "metadata": {},
   "outputs": [],
   "source": [
    "options = Options()\n",
    "options.add_argument('--headless')\n",
    "options.add_argument('--no-sandbox')\n",
    "options.add_argument('--disable-dev-shm-usage')\n",
    "# options.add_argument('--start-maximized')\n",
    "#options.add_argument('--start-fullscreen')\n",
    "#options.add_argument('--disable-plugins')\n",
    "#options.add_argument('--disable-extensions')\n",
    "driver = webdriver.Chrome(\"./chromedriver.exe\", options=options)\n",
    "\n",
    "# yahoo画像へアクセス\n",
    "url = \"https://search.yahoo.co.jp/image/search?p={}\"\n",
    "driver.get(url.format(word))  # 指定したURLへアクセス"
   ]
  },
  {
   "cell_type": "code",
   "execution_count": 78,
   "metadata": {},
   "outputs": [],
   "source": [
    "# 1枚の画像を保存する関数\n",
    "def save_img(url, file_path):\n",
    "    r = requests.get(url, stream=True)\n",
    "\n",
    "    if r.status_code == 200:\n",
    "        with open(file_path, \"wb\") as f:\n",
    "            f.write(r.content)\n",
    "\n",
    "# 複数の画像のダウンロードを行う関数\n",
    "def download_imgs(img_urls, save_dir):\n",
    "    for i, url in enumerate(tqdm(img_urls)):\n",
    "        file_name = f\"{i}.png\"  # 画像ファイル名\n",
    "        save_img_path = os.path.join(save_dir, file_name)  # 保存パス\n",
    "\n",
    "        save_img(url, save_img_path)  # 画像の保存\n",
    "            \n",
    "def img_check(num):\n",
    "    url = urls[num]\n",
    "    file =io.BytesIO(urlopen(url).read())\n",
    "    img = Image.open(file)\n",
    "    img.show()\n"
   ]
  },
  {
   "cell_type": "code",
   "execution_count": 58,
   "metadata": {},
   "outputs": [],
   "source": [
    "# 止まるまでスクロールする\n",
    "while True:\n",
    "    prev_html = driver.page_source  # スクロール前のソースコード\n",
    "    driver.execute_script(\"window.scrollTo(0, document.body.scrollHeight);\")  # 最下部までスクロール\n",
    "    sleep(1.0)   # 1秒待機\n",
    "    current_html = driver.page_source  # スクロール後のソースコード\n",
    "\n",
    "    # スクロールの前後で変化が無ければループを抜ける\n",
    "    if prev_html != current_html:\n",
    "        prev_html = current_html\n",
    "    else:\n",
    "        # 「もっと見る」ボタンがあればクリック\n",
    "        try:\n",
    "            button = driver.find_element_by_class_name(\"sw-Button\")\n",
    "            button.click()\n",
    "        except:\n",
    "            break\n",
    "            \n"
   ]
  },
  {
   "cell_type": "code",
   "execution_count": 63,
   "metadata": {},
   "outputs": [
    {
     "name": "stderr",
     "output_type": "stream",
     "text": [
      "100%|████████████████████████████████████████████████████████████████████████████████| 603/603 [13:40<00:00,  1.36s/it]\n"
     ]
    }
   ],
   "source": [
    "figures = driver.find_elements_by_class_name(\"sw-Thumbnail__image\")\n",
    "urls = []\n",
    "for i, figure in enumerate(tqdm(figures)):\n",
    "    figure.click()\n",
    "    sleep(1)\n",
    "    element = driver.find_element_by_class_name(\"sw-PreviewPanel__image\")\n",
    "    url = element.get_attribute(\"src\")\n",
    "    urls.append(url)\n",
    "    "
   ]
  },
  {
   "cell_type": "code",
   "execution_count": 79,
   "metadata": {},
   "outputs": [],
   "source": [
    "img_check(100)"
   ]
  },
  {
   "cell_type": "code",
   "execution_count": null,
   "metadata": {},
   "outputs": [
    {
     "name": "stdout",
     "output_type": "stream",
     "text": [
      "10 / 603 done\n",
      "20 / 603 done\n",
      "30 / 603 done\n",
      "40 / 603 done\n",
      "50 / 603 done\n",
      "60 / 603 done\n",
      "70 / 603 done\n",
      "80 / 603 done\n",
      "90 / 603 done\n",
      "100 / 603 done\n",
      "110 / 603 done\n",
      "120 / 603 done\n",
      "130 / 603 done\n",
      "140 / 603 done\n",
      "150 / 603 done\n",
      "160 / 603 done\n",
      "170 / 603 done\n",
      "180 / 603 done\n",
      "190 / 603 done\n",
      "200 / 603 done\n",
      "210 / 603 done\n",
      "220 / 603 done\n",
      "230 / 603 done\n",
      "240 / 603 done\n",
      "250 / 603 done\n",
      "260 / 603 done\n",
      "270 / 603 done\n",
      "280 / 603 done\n",
      "290 / 603 done\n",
      "300 / 603 done\n",
      "310 / 603 done\n",
      "320 / 603 done\n",
      "330 / 603 done\n",
      "340 / 603 done\n",
      "350 / 603 done\n",
      "360 / 603 done\n",
      "370 / 603 done\n",
      "380 / 603 done\n",
      "390 / 603 done\n",
      "400 / 603 done\n",
      "410 / 603 done\n",
      "420 / 603 done\n",
      "430 / 603 done\n",
      "440 / 603 done\n",
      "450 / 603 done\n",
      "460 / 603 done\n",
      "470 / 603 done\n",
      "480 / 603 done\n"
     ]
    }
   ],
   "source": [
    "download_imgs(urls, save_dir)"
   ]
  },
  {
   "cell_type": "code",
   "execution_count": null,
   "metadata": {},
   "outputs": [],
   "source": []
  }
 ],
 "metadata": {
  "kernelspec": {
   "display_name": "Python 3",
   "language": "python",
   "name": "python3"
  },
  "language_info": {
   "codemirror_mode": {
    "name": "ipython",
    "version": 3
   },
   "file_extension": ".py",
   "mimetype": "text/x-python",
   "name": "python",
   "nbconvert_exporter": "python",
   "pygments_lexer": "ipython3",
   "version": "3.7.3"
  }
 },
 "nbformat": 4,
 "nbformat_minor": 4
}
